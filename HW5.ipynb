{
  "nbformat": 4,
  "nbformat_minor": 0,
  "metadata": {
    "kernelspec": {
      "display_name": "Python 3",
      "language": "python",
      "name": "python3"
    },
    "language_info": {
      "codemirror_mode": {
        "name": "ipython",
        "version": 3
      },
      "file_extension": ".py",
      "mimetype": "text/x-python",
      "name": "python",
      "nbconvert_exporter": "python",
      "pygments_lexer": "ipython3",
      "version": "3.8.3"
    },
    "colab": {
      "name": "INFO6105-HLiu-HW5.ipynb",
      "provenance": [],
      "collapsed_sections": []
    }
  },
  "cells": [
    {
      "cell_type": "markdown",
      "metadata": {
        "id": "KtTbBUnRcSq_"
      },
      "source": [
        "INFO6105 Instructor: Dr. Handan Liu\n",
        "\n",
        "Homework 5\n",
        "\n",
        "Grading: total 100 points\n"
      ]
    },
    {
      "cell_type": "markdown",
      "metadata": {
        "id": "MFbuTgWPdaU0"
      },
      "source": [
        "1. Parameter tuning (total 32 points)\r\n",
        "Goal: Select the best tuning parameters (aka \"hyperparameters\") for KNN (K nearest neighbors) on the iris dataset\r\n",
        "(0) read in the iris dataset: iris = load_iris()\r\n",
        "(1) create X (features) and y (response) [4pts]\r\n",
        "(2) 10-fold cross-validation with K=5 for KNN (the n_neighbors parameter), scoring is 'accuracy' [8pts]\r\n",
        "(3) use average accuracy as an estimate of out-of-sample accuracy [4pts]\r\n",
        "(4) search for an optimal value of K for KNN [10pts]\r\n",
        "(5) plot the value of K for KNN (x-axis) versus the cross-validated accuracy (y-axis) [6pts]"
      ]
    },
    {
      "cell_type": "code",
      "metadata": {
        "id": "wOyF1u1fcSrC"
      },
      "source": [
        "# Required Packages \n",
        "import numpy as np\n",
        "import matplotlib.pyplot as plt\n",
        "import pandas as pd\n",
        "\n",
        "from sklearn import datasets # for importing Iris dataset\n",
        "from sklearn.svm import SVC #support vector classifier\n",
        "from sklearn.metrics import confusion_matrix, accuracy_score"
      ],
      "execution_count": 13,
      "outputs": []
    },
    {
      "cell_type": "markdown",
      "metadata": {
        "id": "8sJDiQ8qdYcn"
      },
      "source": [
        ""
      ]
    },
    {
      "cell_type": "code",
      "metadata": {
        "id": "IvI-ctspcSrE"
      },
      "source": [
        "# import iris data \n",
        "iris = datasets.load_iris()"
      ],
      "execution_count": 14,
      "outputs": []
    },
    {
      "cell_type": "code",
      "metadata": {
        "id": "JumRNd5scSrF"
      },
      "source": [
        "# Feature in X, Response in y\n",
        "X = iris.data\n",
        "y = iris.target"
      ],
      "execution_count": 15,
      "outputs": []
    },
    {
      "cell_type": "code",
      "metadata": {
        "id": "M0IHx4U_cSrF"
      },
      "source": [
        "# split X, y into Train, Test sets\n",
        "from sklearn.model_selection import train_test_split\n",
        "X_train, X_test, y_train, y_test = train_test_split(X, y, test_size = 0.2, random_state = 1)"
      ],
      "execution_count": 16,
      "outputs": []
    },
    {
      "cell_type": "code",
      "metadata": {
        "colab": {
          "base_uri": "https://localhost:8080/"
        },
        "id": "yboSLQTIcSrG",
        "outputId": "96d83719-e652-44e2-f6ea-173493522fcc"
      },
      "source": [
        "# Train on KNN\n",
        "from sklearn.neighbors import KNeighborsClassifier\n",
        "classifier = KNeighborsClassifier(n_neighbors = 5)\n",
        "classifier.fit(X_train, y_train)"
      ],
      "execution_count": 17,
      "outputs": [
        {
          "output_type": "execute_result",
          "data": {
            "text/plain": [
              "KNeighborsClassifier(algorithm='auto', leaf_size=30, metric='minkowski',\n",
              "                     metric_params=None, n_jobs=None, n_neighbors=5, p=2,\n",
              "                     weights='uniform')"
            ]
          },
          "metadata": {
            "tags": []
          },
          "execution_count": 17
        }
      ]
    },
    {
      "cell_type": "code",
      "metadata": {
        "colab": {
          "base_uri": "https://localhost:8080/"
        },
        "id": "xezmS4mgcSrG",
        "outputId": "88d6917b-7ba5-47f6-b4af-af0fcbdd1add"
      },
      "source": [
        "# 10 fold croos validation\n",
        "from sklearn.model_selection import cross_val_score\n",
        "scores = cross_val_score(classifier, X, y, cv = 10, scoring = 'accuracy')\n",
        "print(scores)"
      ],
      "execution_count": 18,
      "outputs": [
        {
          "output_type": "stream",
          "text": [
            "[1.         0.93333333 1.         1.         0.86666667 0.93333333\n",
            " 0.93333333 1.         1.         1.        ]\n"
          ],
          "name": "stdout"
        }
      ]
    },
    {
      "cell_type": "code",
      "metadata": {
        "colab": {
          "base_uri": "https://localhost:8080/"
        },
        "id": "bf7jydNccSrH",
        "outputId": "5c3c5842-f3f4-4d82-a79d-53fdd359f5c2"
      },
      "source": [
        "# average accuracy as an estimate of out-of-sample accuracy\n",
        "avg = scores.mean()\n",
        "print(avg)"
      ],
      "execution_count": 19,
      "outputs": [
        {
          "output_type": "stream",
          "text": [
            "0.9666666666666668\n"
          ],
          "name": "stdout"
        }
      ]
    },
    {
      "cell_type": "code",
      "metadata": {
        "colab": {
          "base_uri": "https://localhost:8080/"
        },
        "id": "fqdJ3kQPcSrH",
        "outputId": "a003a2f3-8233-454d-95a7-65f4099830c2"
      },
      "source": [
        "# search for an optimal value of K for KNN\n",
        "k_range = range(1, 40)\n",
        "k_scores = []\n",
        "\n",
        "for k in k_range:\n",
        "    classifier = KNeighborsClassifier(n_neighbors = k)\n",
        "    scores = cross_val_score(classifier, X, y, cv = 10, scoring = 'accuracy')\n",
        "    k_scores.append(scores.mean())\n",
        "    \n",
        "print(k_scores)"
      ],
      "execution_count": 20,
      "outputs": [
        {
          "output_type": "stream",
          "text": [
            "[0.96, 0.9533333333333334, 0.9666666666666666, 0.9666666666666666, 0.9666666666666668, 0.9666666666666668, 0.9666666666666668, 0.9666666666666668, 0.9733333333333334, 0.9666666666666668, 0.9666666666666668, 0.9733333333333334, 0.9800000000000001, 0.9733333333333334, 0.9733333333333334, 0.9733333333333334, 0.9733333333333334, 0.9800000000000001, 0.9733333333333334, 0.9800000000000001, 0.9666666666666666, 0.9666666666666666, 0.9733333333333334, 0.96, 0.9666666666666666, 0.96, 0.9666666666666666, 0.9533333333333334, 0.9533333333333334, 0.9533333333333334, 0.9466666666666667, 0.9466666666666667, 0.9466666666666667, 0.9466666666666667, 0.9466666666666667, 0.9466666666666667, 0.9466666666666667, 0.9466666666666667, 0.9533333333333334]\n"
          ],
          "name": "stdout"
        }
      ]
    },
    {
      "cell_type": "code",
      "metadata": {
        "colab": {
          "base_uri": "https://localhost:8080/",
          "height": 296
        },
        "id": "hqODQ7RncSrH",
        "outputId": "1b74a704-19ce-459f-97b6-55aa49b2c97b"
      },
      "source": [
        "# plot the value of K for KNN (x-axis) versus the cross-validated accuracy (y-axis) \n",
        "import matplotlib.pyplot as plt\n",
        "%matplotlib inline\n",
        "\n",
        "plt.plot(k_range, k_scores)\n",
        "plt.xlabel('Value of K for KNN')\n",
        "plt.ylabel('Cross-Validated Accuracy')"
      ],
      "execution_count": 21,
      "outputs": [
        {
          "output_type": "execute_result",
          "data": {
            "text/plain": [
              "Text(0, 0.5, 'Cross-Validated Accuracy')"
            ]
          },
          "metadata": {
            "tags": []
          },
          "execution_count": 21
        },
        {
          "output_type": "display_data",
          "data": {
            "image/png": "[encoded data removed]",
            "text/plain": [
              "<Figure size 432x288 with 1 Axes>"
            ]
          },
          "metadata": {
            "tags": [],
            "needs_background": "light"
          }
        }
      ]
    },
    {
      "cell_type": "markdown",
      "metadata": {
        "id": "UVc6mawdcSrI"
      },
      "source": [
        "Result: As we know, the model found in the middle is best because it appropriately balances bias and variance therefore it is most likely to generalize to out-of-sample data. \n",
        "Thus, on seeing above plot, the value of parameter k can be taken 20, as higher values of k produce lower complexity models."
      ]
    },
    {
      "cell_type": "markdown",
      "metadata": {
        "id": "voUKiuOhdnXS"
      },
      "source": [
        "2. Model selection (total 12 points)\r\n",
        "Goal: Compare the best KNN model with logistic regression on the iris dataset\r\n",
        "(1) 10-fold cross-validation with the best KNN model, scoring is 'accuracy' [6pts]\r\n",
        "(2) 10-fold cross-validation with logistic regression, scoring is 'accuracy' [6pts]"
      ]
    },
    {
      "cell_type": "code",
      "metadata": {
        "colab": {
          "base_uri": "https://localhost:8080/"
        },
        "id": "mcPDSspTcSrI",
        "outputId": "0ad93466-db1b-4f93-d969-c76b5c6e7725"
      },
      "source": [
        "# 10-fold cross-validation with the best KNN model\n",
        "knn_classifier = KNeighborsClassifier(n_neighbors = 20)\n",
        "knn_classifier.fit(X_train, y_train)\n",
        "knn_score = cross_val_score(knn_classifier, X, y, cv = 10, scoring = 'accuracy').mean()\n",
        "print(\"Accuracy of KNN:\" ,knn_score)"
      ],
      "execution_count": 22,
      "outputs": [
        {
          "output_type": "stream",
          "text": [
            "Accuracy of KNN: 0.9800000000000001\n"
          ],
          "name": "stdout"
        }
      ]
    },
    {
      "cell_type": "code",
      "metadata": {
        "colab": {
          "base_uri": "https://localhost:8080/"
        },
        "id": "kii94PmwcSrJ",
        "outputId": "1f8a96f9-f58e-457b-d1f6-39cb310c7a1d"
      },
      "source": [
        "# 10-fold cross-validation with logistic Regression\n",
        "from sklearn.linear_model import LogisticRegression\n",
        "lr_classifier = LogisticRegression( max_iter = 1000)\n",
        "lr_classifier.fit(X_train, y_train)\n",
        "lr_score = cross_val_score(lr_classifier, X, y, cv = 10, scoring = 'accuracy').mean()\n",
        "print(\"Accuracy of LR:\", lr_score)"
      ],
      "execution_count": 23,
      "outputs": [
        {
          "output_type": "stream",
          "text": [
            "Accuracy of LR: 0.9733333333333334\n"
          ],
          "name": "stdout"
        }
      ]
    },
    {
      "cell_type": "markdown",
      "metadata": {
        "id": "a_3VzOYHcSrJ"
      },
      "source": [
        "Result: Comparing both the model's accuracy, it can be seen that KNN (k = 20) is the best choice of model."
      ]
    },
    {
      "cell_type": "markdown",
      "metadata": {
        "id": "MmcKV38vdwUl"
      },
      "source": [
        "3. Feature selection (total 36 points)\r\n",
        "Goal: Select whether the Newspaper feature should be included in the linear regression model on the advertising dataset\r\n",
        "(0) read in the advertising dataset\r\n",
        "(1) create a Python list of three feature names: TV, radio, newpaper (5 points)\r\n",
        "(2) use the list to select a subset of the DataFrame (X) (5 points)\r\n",
        "(3) select the sales column as the response (y) (5 points)\r\n",
        "(4) 10-fold cross-validation with all three features, scoring is 'neg_mean_squared_error' (6 points) \r\n",
        "(5) fix the sign of MSE scores (5 points)\r\n",
        "(6) convert from MSE to RMSE (5 points)\r\n",
        "(7) calculate the average RMSE (5 points)\r\n",
        "(8) 10-fold cross-validation with two features (excluding Newspaper), scoring is'neg_mean_squared_error' (10)"
      ]
    },
    {
      "cell_type": "code",
      "metadata": {
        "colab": {
          "base_uri": "https://localhost:8080/"
        },
        "id": "2qUaiw27cSrJ",
        "outputId": "f67ab951-15e2-4046-cf93-eb26a9208712"
      },
      "source": [
        "# read in the advertising dataset\n",
        "dataset = pd.read_csv(\"Advertising.csv\")\n",
        "print(dataset)"
      ],
      "execution_count": 24,
      "outputs": [
        {
          "output_type": "stream",
          "text": [
            "     Unnamed: 0     TV  Radio  Newspaper  Sales\n",
            "0             1  230.1   37.8       69.2   22.1\n",
            "1             2   44.5   39.3       45.1   10.4\n",
            "2             3   17.2   45.9       69.3    9.3\n",
            "3             4  151.5   41.3       58.5   18.5\n",
            "4             5  180.8   10.8       58.4   12.9\n",
            "..          ...    ...    ...        ...    ...\n",
            "195         196   38.2    3.7       13.8    7.6\n",
            "196         197   94.2    4.9        8.1    9.7\n",
            "197         198  177.0    9.3        6.4   12.8\n",
            "198         199  283.6   42.0       66.2   25.5\n",
            "199         200  232.1    8.6        8.7   13.4\n",
            "\n",
            "[200 rows x 5 columns]\n"
          ],
          "name": "stdout"
        }
      ]
    },
    {
      "cell_type": "code",
      "metadata": {
        "id": "GA0dk_oscSrK"
      },
      "source": [
        "# create a Python list of three feature names: TV, radio, newpaper\n",
        "features_list = ['TV', 'Radio', 'Newspaper']"
      ],
      "execution_count": 25,
      "outputs": []
    },
    {
      "cell_type": "code",
      "metadata": {
        "id": "cA-LlQSJcSrK"
      },
      "source": [
        "# use the list to select a subset of the DataFrame (X) \n",
        "X = dataset[features_list]"
      ],
      "execution_count": 26,
      "outputs": []
    },
    {
      "cell_type": "code",
      "metadata": {
        "id": "wioaZYyqcSrK"
      },
      "source": [
        "# select the sales column as the response (y) \n",
        "y = dataset.Sales"
      ],
      "execution_count": 27,
      "outputs": []
    },
    {
      "cell_type": "code",
      "metadata": {
        "colab": {
          "base_uri": "https://localhost:8080/"
        },
        "id": "BxsUMK8JcSrK",
        "outputId": "92a0225e-b61a-4a70-cd88-3cbab479aba0"
      },
      "source": [
        "# 10-fold cross-validation with all three features, scoring is 'neg_mean_squared_error' \n",
        "from sklearn.linear_model import LinearRegression\n",
        "lr_regressor = LinearRegression()\n",
        "scores = cross_val_score(lr_regressor, X, y, cv = 10, scoring = 'neg_mean_squared_error')\n",
        "print(scores)"
      ],
      "execution_count": 28,
      "outputs": [
        {
          "output_type": "stream",
          "text": [
            "[-3.56038438 -3.29767522 -2.08943356 -2.82474283 -1.3027754  -1.74163618\n",
            " -8.17338214 -2.11409746 -3.04273109 -2.45281793]\n"
          ],
          "name": "stdout"
        }
      ]
    },
    {
      "cell_type": "code",
      "metadata": {
        "colab": {
          "base_uri": "https://localhost:8080/"
        },
        "id": "43EWEaz2cSrL",
        "outputId": "c645972f-7087-43d3-cf5d-9a1255c6cf71"
      },
      "source": [
        "# fix the sign of MSE scores\n",
        "mse_scores = -scores\n",
        "print(mse_scores)"
      ],
      "execution_count": 29,
      "outputs": [
        {
          "output_type": "stream",
          "text": [
            "[3.56038438 3.29767522 2.08943356 2.82474283 1.3027754  1.74163618\n",
            " 8.17338214 2.11409746 3.04273109 2.45281793]\n"
          ],
          "name": "stdout"
        }
      ]
    },
    {
      "cell_type": "code",
      "metadata": {
        "colab": {
          "base_uri": "https://localhost:8080/"
        },
        "id": "zqSLYNF_cSrL",
        "outputId": "6545fb9e-751f-48b1-a9c8-d0be5c2f3f8d"
      },
      "source": [
        "# convert from MSE to RMSE\n",
        "rmse_scores = np.sqrt(mse_scores)\n",
        "print(rmse_scores)"
      ],
      "execution_count": 30,
      "outputs": [
        {
          "output_type": "stream",
          "text": [
            "[1.88689808 1.81595022 1.44548731 1.68069713 1.14139187 1.31971064\n",
            " 2.85891276 1.45399362 1.7443426  1.56614748]\n"
          ],
          "name": "stdout"
        }
      ]
    },
    {
      "cell_type": "code",
      "metadata": {
        "colab": {
          "base_uri": "https://localhost:8080/"
        },
        "id": "NWYEr8xvcSrL",
        "outputId": "bf47051f-f18b-47fe-beb6-8f7b77b47bac"
      },
      "source": [
        "# calculate the average RMSE \n",
        "rmse_avg = rmse_scores.mean()\n",
        "print(rmse_avg)"
      ],
      "execution_count": 31,
      "outputs": [
        {
          "output_type": "stream",
          "text": [
            "1.6913531708051792\n"
          ],
          "name": "stdout"
        }
      ]
    },
    {
      "cell_type": "code",
      "metadata": {
        "id": "71fdlQ6scSrM"
      },
      "source": [
        "#  10-fold cross-validation with two features (excluding Newspaper), scoring is'neg_mean_squared_error'\n",
        "features_list_2 = ['TV', 'Radio']"
      ],
      "execution_count": 32,
      "outputs": []
    },
    {
      "cell_type": "code",
      "metadata": {
        "colab": {
          "base_uri": "https://localhost:8080/"
        },
        "id": "0FU3-Fm6cSrM",
        "outputId": "fd0047be-b3b5-4712-949b-f1d3a4bbbfcd"
      },
      "source": [
        "X = dataset[features_list_2]\n",
        "y = dataset.Sales\n",
        "lr_regressor = LinearRegression()\n",
        "scores_2 = cross_val_score(lr_regressor, X, y, cv = 10, scoring = 'neg_mean_squared_error')\n",
        "mse_scores_2 = -scores_2\n",
        "rmse_scores_2 = np.sqrt(mse_scores_2)\n",
        "rmse_avg_2 = rmse_scores_2.mean()\n",
        "print(rmse_avg_2)"
      ],
      "execution_count": 33,
      "outputs": [
        {
          "output_type": "stream",
          "text": [
            "1.6796748419090766\n"
          ],
          "name": "stdout"
        }
      ]
    },
    {
      "cell_type": "markdown",
      "metadata": {
        "id": "I7WfLp14d9KA"
      },
      "source": [
        "4. Contruct a decision tree (total 20 points)\r\n",
        "(1) After loading Breast Cancer dataset, print the target names (target_names) and feature names (feature_names). [4 pts] \r\n",
        "(2) Split the dataset into 2 parts: half for traning and another half for testing [2pts], and instantiate the decision tree model (setting max_depth=4) [2pts] to get the accuracy score for testing data[2pts]. [6 pts]\r\n",
        "(2) Drawing a decision tree using graphviz with the parameters as: 'class_names' is set as malignant and benign, 'feature_names' is set as the feature names, 'impurity' is False and 'filled' is True; output the tree as a file. [5pts] \r\n",
        "    read in this file and visualize this tree graph. [5pts]"
      ]
    },
    {
      "cell_type": "code",
      "metadata": {
        "id": "nCfhkKT8cSrM"
      },
      "source": [
        "# import Breast Cancer dataset\n",
        "dataset = datasets.load_breast_cancer()"
      ],
      "execution_count": 34,
      "outputs": []
    },
    {
      "cell_type": "code",
      "metadata": {
        "colab": {
          "base_uri": "https://localhost:8080/"
        },
        "id": "TZJ23RvgcSrN",
        "outputId": "c9c365a4-15ea-424e-d493-053a0bc62fff"
      },
      "source": [
        "# print the target names\n",
        "print(dataset.target_names)"
      ],
      "execution_count": 35,
      "outputs": [
        {
          "output_type": "stream",
          "text": [
            "['malignant' 'benign']\n"
          ],
          "name": "stdout"
        }
      ]
    },
    {
      "cell_type": "code",
      "metadata": {
        "colab": {
          "base_uri": "https://localhost:8080/"
        },
        "id": "U1OrwjgAcSrN",
        "outputId": "53f74ed9-0f63-4bcb-9669-94d3a0c465db"
      },
      "source": [
        "# print the features names\n",
        "print(dataset.feature_names)"
      ],
      "execution_count": 36,
      "outputs": [
        {
          "output_type": "stream",
          "text": [
            "['mean radius' 'mean texture' 'mean perimeter' 'mean area'\n",
            " 'mean smoothness' 'mean compactness' 'mean concavity'\n",
            " 'mean concave points' 'mean symmetry' 'mean fractal dimension'\n",
            " 'radius error' 'texture error' 'perimeter error' 'area error'\n",
            " 'smoothness error' 'compactness error' 'concavity error'\n",
            " 'concave points error' 'symmetry error' 'fractal dimension error'\n",
            " 'worst radius' 'worst texture' 'worst perimeter' 'worst area'\n",
            " 'worst smoothness' 'worst compactness' 'worst concavity'\n",
            " 'worst concave points' 'worst symmetry' 'worst fractal dimension']\n"
          ],
          "name": "stdout"
        }
      ]
    },
    {
      "cell_type": "code",
      "metadata": {
        "id": "gNNDRkC0cSrN"
      },
      "source": [
        "# Feature in X, Response in y\n",
        "X = dataset.data\n",
        "y = dataset.target"
      ],
      "execution_count": 37,
      "outputs": []
    },
    {
      "cell_type": "code",
      "metadata": {
        "id": "WsxUcLHDcSrO"
      },
      "source": [
        "# split X, y into Train, Test sets\n",
        "from sklearn.model_selection import train_test_split\n",
        "X_train, X_test, y_train, y_test = train_test_split(X, y, test_size = 0.5, random_state = 1)"
      ],
      "execution_count": 38,
      "outputs": []
    },
    {
      "cell_type": "code",
      "metadata": {
        "colab": {
          "base_uri": "https://localhost:8080/"
        },
        "id": "tDcJ_eRGcSrO",
        "outputId": "a2d482ea-fea6-4054-b870-a9336af3d42c"
      },
      "source": [
        "# Train on Decision Tree\n",
        "from sklearn.tree import DecisionTreeClassifier\n",
        "dt_classifier = DecisionTreeClassifier(max_depth = 4)\n",
        "dt_classifier.fit(X_train, y_train)"
      ],
      "execution_count": 39,
      "outputs": [
        {
          "output_type": "execute_result",
          "data": {
            "text/plain": [
              "DecisionTreeClassifier(ccp_alpha=0.0, class_weight=None, criterion='gini',\n",
              "                       max_depth=4, max_features=None, max_leaf_nodes=None,\n",
              "                       min_impurity_decrease=0.0, min_impurity_split=None,\n",
              "                       min_samples_leaf=1, min_samples_split=2,\n",
              "                       min_weight_fraction_leaf=0.0, presort='deprecated',\n",
              "                       random_state=None, splitter='best')"
            ]
          },
          "metadata": {
            "tags": []
          },
          "execution_count": 39
        }
      ]
    },
    {
      "cell_type": "code",
      "metadata": {
        "id": "_ahrAN_6cSrO"
      },
      "source": [
        "# predict y\n",
        "y_pred= dt_classifier.predict(X_test)"
      ],
      "execution_count": 40,
      "outputs": []
    },
    {
      "cell_type": "code",
      "metadata": {
        "colab": {
          "base_uri": "https://localhost:8080/"
        },
        "id": "UMK2y3QccSrP",
        "outputId": "dc90a1c5-5f07-46c8-fa31-a72478c2e760"
      },
      "source": [
        "# confusion matrix and accuracy\n",
        "cm = confusion_matrix(y_test, y_pred)\n",
        "print(cm)\n",
        "dt_accuracy = accuracy_score(y_test, y_pred)\n",
        "print(\"Accuracy : \", dt_accuracy)"
      ],
      "execution_count": 41,
      "outputs": [
        {
          "output_type": "stream",
          "text": [
            "[[ 94   9]\n",
            " [ 19 163]]\n",
            "Accuracy :  0.9017543859649123\n"
          ],
          "name": "stdout"
        }
      ]
    },
    {
      "cell_type": "code",
      "metadata": {
        "colab": {
          "base_uri": "https://localhost:8080/",
          "height": 657
        },
        "id": "_pdmCIPucSrP",
        "outputId": "4f5c22ea-5370-4304-e291-3dffbe91abfd"
      },
      "source": [
        "# visualize tree graph\n",
        "from sklearn.tree import export_graphviz\n",
        "export_graphviz(dt_classifier, out_file = \"file.dot\", class_names = ['malignant',\"benign\"],\n",
        "                feature_names = dataset.feature_names, impurity = False, filled = True)\n",
        "import graphviz\n",
        "with open(\"file.dot\") as dt:\n",
        "    dot_graph=dt.read()\n",
        "graphviz.Source(dot_graph)"
      ],
      "execution_count": 42,
      "outputs": [
        {
          "output_type": "execute_result",
          "data": {
            "text/plain": [
              "<graphviz.files.Source at 0x7f12d7bae860>"
            ],
            "image/svg+xml": "<?xml version=\"1.0\" encoding=\"UTF-8\" standalone=\"no\"?>\n<!DOCTYPE svg PUBLIC \"-//W3C//DTD SVG 1.1//EN\"\n \"http://www.w3.org/Graphics/SVG/1.1/DTD/svg11.dtd\">\n<!-- Generated by graphviz version 2.40.1 (20161225.0304)\n -->\n<!-- Title: Tree Pages: 1 -->\n<svg width=\"962pt\" height=\"477pt\"\n viewBox=\"0.00 0.00 962.00 477.00\" xmlns=\"http://www.w3.org/2000/svg\" xmlns:xlink=\"http://www.w3.org/1999/xlink\">\n<g id=\"graph0\" class=\"graph\" transform=\"scale(1 1) rotate(0) translate(4 473)\">\n<title>Tree</title>\n<polygon fill=\"#ffffff\" stroke=\"transparent\" points=\"-4,4 -4,-473 958,-473 958,4 -4,4\"/>\n<!-- 0 -->\n<g id=\"node1\" class=\"node\">\n<title>0</title>\n<polygon fill=\"#b4daf5\" stroke=\"#000000\" points=\"509,-469 339,-469 339,-401 509,-401 509,-469\"/>\n<text text-anchor=\"middle\" x=\"424\" y=\"-453.8\" font-family=\"Times,serif\" font-size=\"14.00\" fill=\"#000000\">worst perimeter &lt;= 104.95</text>\n<text text-anchor=\"middle\" x=\"424\" y=\"-438.8\" font-family=\"Times,serif\" font-size=\"14.00\" fill=\"#000000\">samples = 284</text>\n<text text-anchor=\"middle\" x=\"424\" y=\"-423.8\" font-family=\"Times,serif\" font-size=\"14.00\" fill=\"#000000\">value = [109, 175]</text>\n<text text-anchor=\"middle\" x=\"424\" y=\"-408.8\" font-family=\"Times,serif\" font-size=\"14.00\" fill=\"#000000\">class = benign</text>\n</g>\n<!-- 1 -->\n<g id=\"node2\" class=\"node\">\n<title>1</title>\n<polygon fill=\"#3d9fe5\" stroke=\"#000000\" points=\"422,-365 240,-365 240,-297 422,-297 422,-365\"/>\n<text text-anchor=\"middle\" x=\"331\" y=\"-349.8\" font-family=\"Times,serif\" font-size=\"14.00\" fill=\"#000000\">worst compactness &lt;= 0.434</text>\n<text text-anchor=\"middle\" x=\"331\" y=\"-334.8\" font-family=\"Times,serif\" font-size=\"14.00\" fill=\"#000000\">samples = 167</text>\n<text text-anchor=\"middle\" x=\"331\" y=\"-319.8\" font-family=\"Times,serif\" font-size=\"14.00\" fill=\"#000000\">value = [3, 164]</text>\n<text text-anchor=\"middle\" x=\"331\" y=\"-304.8\" font-family=\"Times,serif\" font-size=\"14.00\" fill=\"#000000\">class = benign</text>\n</g>\n<!-- 0&#45;&gt;1 -->\n<g id=\"edge1\" class=\"edge\">\n<title>0&#45;&gt;1</title>\n<path fill=\"none\" stroke=\"#000000\" d=\"M393.5483,-400.9465C385.5194,-391.968 376.763,-382.1758 368.4133,-372.8385\"/>\n<polygon fill=\"#000000\" stroke=\"#000000\" points=\"370.795,-370.2512 361.5201,-365.13 365.577,-374.9174 370.795,-370.2512\"/>\n<text text-anchor=\"middle\" x=\"360.1263\" y=\"-386.3911\" font-family=\"Times,serif\" font-size=\"14.00\" fill=\"#000000\">True</text>\n</g>\n<!-- 8 -->\n<g id=\"node9\" class=\"node\">\n<title>8</title>\n<polygon fill=\"#e88e4e\" stroke=\"#000000\" points=\"596,-365 440,-365 440,-297 596,-297 596,-365\"/>\n<text text-anchor=\"middle\" x=\"518\" y=\"-349.8\" font-family=\"Times,serif\" font-size=\"14.00\" fill=\"#000000\">worst texture &lt;= 20.045</text>\n<text text-anchor=\"middle\" x=\"518\" y=\"-334.8\" font-family=\"Times,serif\" font-size=\"14.00\" fill=\"#000000\">samples = 117</text>\n<text text-anchor=\"middle\" x=\"518\" y=\"-319.8\" font-family=\"Times,serif\" font-size=\"14.00\" fill=\"#000000\">value = [106, 11]</text>\n<text text-anchor=\"middle\" x=\"518\" y=\"-304.8\" font-family=\"Times,serif\" font-size=\"14.00\" fill=\"#000000\">class = malignant</text>\n</g>\n<!-- 0&#45;&gt;8 -->\n<g id=\"edge8\" class=\"edge\">\n<title>0&#45;&gt;8</title>\n<path fill=\"none\" stroke=\"#000000\" d=\"M454.7791,-400.9465C462.9755,-391.8782 471.922,-381.9799 480.4375,-372.5585\"/>\n<polygon fill=\"#000000\" stroke=\"#000000\" points=\"483.0429,-374.8957 487.1517,-365.13 477.8497,-370.2019 483.0429,-374.8957\"/>\n<text text-anchor=\"middle\" x=\"488.4128\" y=\"-386.3982\" font-family=\"Times,serif\" font-size=\"14.00\" fill=\"#000000\">False</text>\n</g>\n<!-- 2 -->\n<g id=\"node3\" class=\"node\">\n<title>2</title>\n<polygon fill=\"#3a9ee5\" stroke=\"#000000\" points=\"263,-261 123,-261 123,-193 263,-193 263,-261\"/>\n<text text-anchor=\"middle\" x=\"193\" y=\"-245.8\" font-family=\"Times,serif\" font-size=\"14.00\" fill=\"#000000\">radius error &lt;= 0.643</text>\n<text text-anchor=\"middle\" x=\"193\" y=\"-230.8\" font-family=\"Times,serif\" font-size=\"14.00\" fill=\"#000000\">samples = 165</text>\n<text text-anchor=\"middle\" x=\"193\" y=\"-215.8\" font-family=\"Times,serif\" font-size=\"14.00\" fill=\"#000000\">value = [1, 164]</text>\n<text text-anchor=\"middle\" x=\"193\" y=\"-200.8\" font-family=\"Times,serif\" font-size=\"14.00\" fill=\"#000000\">class = benign</text>\n</g>\n<!-- 1&#45;&gt;2 -->\n<g id=\"edge2\" class=\"edge\">\n<title>1&#45;&gt;2</title>\n<path fill=\"none\" stroke=\"#000000\" d=\"M285.8136,-296.9465C273.185,-287.4293 259.3433,-276.9978 246.2932,-267.163\"/>\n<polygon fill=\"#000000\" stroke=\"#000000\" points=\"248.3805,-264.3534 238.2879,-261.13 244.1675,-269.9437 248.3805,-264.3534\"/>\n</g>\n<!-- 7 -->\n<g id=\"node8\" class=\"node\">\n<title>7</title>\n<polygon fill=\"#e58139\" stroke=\"#000000\" points=\"397,-253.5 281,-253.5 281,-200.5 397,-200.5 397,-253.5\"/>\n<text text-anchor=\"middle\" x=\"339\" y=\"-238.3\" font-family=\"Times,serif\" font-size=\"14.00\" fill=\"#000000\">samples = 2</text>\n<text text-anchor=\"middle\" x=\"339\" y=\"-223.3\" font-family=\"Times,serif\" font-size=\"14.00\" fill=\"#000000\">value = [2, 0]</text>\n<text text-anchor=\"middle\" x=\"339\" y=\"-208.3\" font-family=\"Times,serif\" font-size=\"14.00\" fill=\"#000000\">class = malignant</text>\n</g>\n<!-- 1&#45;&gt;7 -->\n<g id=\"edge7\" class=\"edge\">\n<title>1&#45;&gt;7</title>\n<path fill=\"none\" stroke=\"#000000\" d=\"M333.6195,-296.9465C334.4414,-286.2621 335.3519,-274.4254 336.1866,-263.5742\"/>\n<polygon fill=\"#000000\" stroke=\"#000000\" points=\"339.6809,-263.7812 336.9583,-253.5422 332.7015,-263.2442 339.6809,-263.7812\"/>\n</g>\n<!-- 3 -->\n<g id=\"node4\" class=\"node\">\n<title>3</title>\n<polygon fill=\"#399de5\" stroke=\"#000000\" points=\"110,-149.5 0,-149.5 0,-96.5 110,-96.5 110,-149.5\"/>\n<text text-anchor=\"middle\" x=\"55\" y=\"-134.3\" font-family=\"Times,serif\" font-size=\"14.00\" fill=\"#000000\">samples = 162</text>\n<text text-anchor=\"middle\" x=\"55\" y=\"-119.3\" font-family=\"Times,serif\" font-size=\"14.00\" fill=\"#000000\">value = [0, 162]</text>\n<text text-anchor=\"middle\" x=\"55\" y=\"-104.3\" font-family=\"Times,serif\" font-size=\"14.00\" fill=\"#000000\">class = benign</text>\n</g>\n<!-- 2&#45;&gt;3 -->\n<g id=\"edge3\" class=\"edge\">\n<title>2&#45;&gt;3</title>\n<path fill=\"none\" stroke=\"#000000\" d=\"M147.8136,-192.9465C131.8823,-180.9403 114.0204,-167.4791 98.2527,-155.5962\"/>\n<polygon fill=\"#000000\" stroke=\"#000000\" points=\"100.312,-152.7656 90.2194,-149.5422 96.099,-158.3558 100.312,-152.7656\"/>\n</g>\n<!-- 4 -->\n<g id=\"node5\" class=\"node\">\n<title>4</title>\n<polygon fill=\"#9ccef2\" stroke=\"#000000\" points=\"295.5,-157 128.5,-157 128.5,-89 295.5,-89 295.5,-157\"/>\n<text text-anchor=\"middle\" x=\"212\" y=\"-141.8\" font-family=\"Times,serif\" font-size=\"14.00\" fill=\"#000000\">worst symmetry &lt;= 0.212</text>\n<text text-anchor=\"middle\" x=\"212\" y=\"-126.8\" font-family=\"Times,serif\" font-size=\"14.00\" fill=\"#000000\">samples = 3</text>\n<text text-anchor=\"middle\" x=\"212\" y=\"-111.8\" font-family=\"Times,serif\" font-size=\"14.00\" fill=\"#000000\">value = [1, 2]</text>\n<text text-anchor=\"middle\" x=\"212\" y=\"-96.8\" font-family=\"Times,serif\" font-size=\"14.00\" fill=\"#000000\">class = benign</text>\n</g>\n<!-- 2&#45;&gt;4 -->\n<g id=\"edge4\" class=\"edge\">\n<title>2&#45;&gt;4</title>\n<path fill=\"none\" stroke=\"#000000\" d=\"M199.2213,-192.9465C200.7304,-184.6863 202.3653,-175.7374 203.9455,-167.0875\"/>\n<polygon fill=\"#000000\" stroke=\"#000000\" points=\"207.4105,-167.5962 205.7647,-157.13 200.5244,-166.3381 207.4105,-167.5962\"/>\n</g>\n<!-- 5 -->\n<g id=\"node6\" class=\"node\">\n<title>5</title>\n<polygon fill=\"#e58139\" stroke=\"#000000\" points=\"208,-53 92,-53 92,0 208,0 208,-53\"/>\n<text text-anchor=\"middle\" x=\"150\" y=\"-37.8\" font-family=\"Times,serif\" font-size=\"14.00\" fill=\"#000000\">samples = 1</text>\n<text text-anchor=\"middle\" x=\"150\" y=\"-22.8\" font-family=\"Times,serif\" font-size=\"14.00\" fill=\"#000000\">value = [1, 0]</text>\n<text text-anchor=\"middle\" x=\"150\" y=\"-7.8\" font-family=\"Times,serif\" font-size=\"14.00\" fill=\"#000000\">class = malignant</text>\n</g>\n<!-- 4&#45;&gt;5 -->\n<g id=\"edge5\" class=\"edge\">\n<title>4&#45;&gt;5</title>\n<path fill=\"none\" stroke=\"#000000\" d=\"M190.1411,-88.9777C184.4932,-80.187 178.4007,-70.7044 172.7104,-61.8477\"/>\n<polygon fill=\"#000000\" stroke=\"#000000\" points=\"175.5356,-59.7698 167.1856,-53.2485 169.6463,-63.5536 175.5356,-59.7698\"/>\n</g>\n<!-- 6 -->\n<g id=\"node7\" class=\"node\">\n<title>6</title>\n<polygon fill=\"#399de5\" stroke=\"#000000\" points=\"324,-53 226,-53 226,0 324,0 324,-53\"/>\n<text text-anchor=\"middle\" x=\"275\" y=\"-37.8\" font-family=\"Times,serif\" font-size=\"14.00\" fill=\"#000000\">samples = 2</text>\n<text text-anchor=\"middle\" x=\"275\" y=\"-22.8\" font-family=\"Times,serif\" font-size=\"14.00\" fill=\"#000000\">value = [0, 2]</text>\n<text text-anchor=\"middle\" x=\"275\" y=\"-7.8\" font-family=\"Times,serif\" font-size=\"14.00\" fill=\"#000000\">class = benign</text>\n</g>\n<!-- 4&#45;&gt;6 -->\n<g id=\"edge6\" class=\"edge\">\n<title>4&#45;&gt;6</title>\n<path fill=\"none\" stroke=\"#000000\" d=\"M234.2114,-88.9777C239.9504,-80.187 246.1412,-70.7044 251.9233,-61.8477\"/>\n<polygon fill=\"#000000\" stroke=\"#000000\" points=\"255.0013,-63.5354 257.5373,-53.2485 249.1398,-59.7087 255.0013,-63.5354\"/>\n</g>\n<!-- 9 -->\n<g id=\"node10\" class=\"node\">\n<title>9</title>\n<polygon fill=\"#8ec7f0\" stroke=\"#000000\" points=\"591.5,-261 430.5,-261 430.5,-193 591.5,-193 591.5,-261\"/>\n<text text-anchor=\"middle\" x=\"511\" y=\"-245.8\" font-family=\"Times,serif\" font-size=\"14.00\" fill=\"#000000\">concavity error &lt;= 0.042</text>\n<text text-anchor=\"middle\" x=\"511\" y=\"-230.8\" font-family=\"Times,serif\" font-size=\"14.00\" fill=\"#000000\">samples = 10</text>\n<text text-anchor=\"middle\" x=\"511\" y=\"-215.8\" font-family=\"Times,serif\" font-size=\"14.00\" fill=\"#000000\">value = [3, 7]</text>\n<text text-anchor=\"middle\" x=\"511\" y=\"-200.8\" font-family=\"Times,serif\" font-size=\"14.00\" fill=\"#000000\">class = benign</text>\n</g>\n<!-- 8&#45;&gt;9 -->\n<g id=\"edge9\" class=\"edge\">\n<title>8&#45;&gt;9</title>\n<path fill=\"none\" stroke=\"#000000\" d=\"M515.7079,-296.9465C515.158,-288.776 514.5627,-279.9318 513.9864,-271.3697\"/>\n<polygon fill=\"#000000\" stroke=\"#000000\" points=\"517.461,-270.8723 513.2972,-261.13 510.4768,-271.3425 517.461,-270.8723\"/>\n</g>\n<!-- 12 -->\n<g id=\"node13\" class=\"node\">\n<title>12</title>\n<polygon fill=\"#e68641\" stroke=\"#000000\" points=\"786,-261 610,-261 610,-193 786,-193 786,-261\"/>\n<text text-anchor=\"middle\" x=\"698\" y=\"-245.8\" font-family=\"Times,serif\" font-size=\"14.00\" fill=\"#000000\">worst smoothness &lt;= 0.098</text>\n<text text-anchor=\"middle\" x=\"698\" y=\"-230.8\" font-family=\"Times,serif\" font-size=\"14.00\" fill=\"#000000\">samples = 107</text>\n<text text-anchor=\"middle\" x=\"698\" y=\"-215.8\" font-family=\"Times,serif\" font-size=\"14.00\" fill=\"#000000\">value = [103, 4]</text>\n<text text-anchor=\"middle\" x=\"698\" y=\"-200.8\" font-family=\"Times,serif\" font-size=\"14.00\" fill=\"#000000\">class = malignant</text>\n</g>\n<!-- 8&#45;&gt;12 -->\n<g id=\"edge12\" class=\"edge\">\n<title>8&#45;&gt;12</title>\n<path fill=\"none\" stroke=\"#000000\" d=\"M576.9387,-296.9465C593.8771,-287.1599 612.4885,-276.4066 629.9299,-266.3294\"/>\n<polygon fill=\"#000000\" stroke=\"#000000\" points=\"632.0212,-269.1634 638.9289,-261.13 628.5192,-263.1023 632.0212,-269.1634\"/>\n</g>\n<!-- 10 -->\n<g id=\"node11\" class=\"node\">\n<title>10</title>\n<polygon fill=\"#399de5\" stroke=\"#000000\" points=\"456,-149.5 358,-149.5 358,-96.5 456,-96.5 456,-149.5\"/>\n<text text-anchor=\"middle\" x=\"407\" y=\"-134.3\" font-family=\"Times,serif\" font-size=\"14.00\" fill=\"#000000\">samples = 7</text>\n<text text-anchor=\"middle\" x=\"407\" y=\"-119.3\" font-family=\"Times,serif\" font-size=\"14.00\" fill=\"#000000\">value = [0, 7]</text>\n<text text-anchor=\"middle\" x=\"407\" y=\"-104.3\" font-family=\"Times,serif\" font-size=\"14.00\" fill=\"#000000\">class = benign</text>\n</g>\n<!-- 9&#45;&gt;10 -->\n<g id=\"edge10\" class=\"edge\">\n<title>9&#45;&gt;10</title>\n<path fill=\"none\" stroke=\"#000000\" d=\"M476.9465,-192.9465C465.3809,-181.3809 452.4652,-168.4652 440.9107,-156.9107\"/>\n<polygon fill=\"#000000\" stroke=\"#000000\" points=\"443.0881,-154.1384 433.5422,-149.5422 438.1384,-159.0881 443.0881,-154.1384\"/>\n</g>\n<!-- 11 -->\n<g id=\"node12\" class=\"node\">\n<title>11</title>\n<polygon fill=\"#e58139\" stroke=\"#000000\" points=\"590,-149.5 474,-149.5 474,-96.5 590,-96.5 590,-149.5\"/>\n<text text-anchor=\"middle\" x=\"532\" y=\"-134.3\" font-family=\"Times,serif\" font-size=\"14.00\" fill=\"#000000\">samples = 3</text>\n<text text-anchor=\"middle\" x=\"532\" y=\"-119.3\" font-family=\"Times,serif\" font-size=\"14.00\" fill=\"#000000\">value = [3, 0]</text>\n<text text-anchor=\"middle\" x=\"532\" y=\"-104.3\" font-family=\"Times,serif\" font-size=\"14.00\" fill=\"#000000\">class = malignant</text>\n</g>\n<!-- 9&#45;&gt;11 -->\n<g id=\"edge11\" class=\"edge\">\n<title>9&#45;&gt;11</title>\n<path fill=\"none\" stroke=\"#000000\" d=\"M517.8762,-192.9465C520.0336,-182.2621 522.4237,-170.4254 524.6148,-159.5742\"/>\n<polygon fill=\"#000000\" stroke=\"#000000\" points=\"528.0919,-160.0371 526.6405,-149.5422 521.2304,-158.6516 528.0919,-160.0371\"/>\n</g>\n<!-- 13 -->\n<g id=\"node14\" class=\"node\">\n<title>13</title>\n<polygon fill=\"#399de5\" stroke=\"#000000\" points=\"728,-149.5 630,-149.5 630,-96.5 728,-96.5 728,-149.5\"/>\n<text text-anchor=\"middle\" x=\"679\" y=\"-134.3\" font-family=\"Times,serif\" font-size=\"14.00\" fill=\"#000000\">samples = 2</text>\n<text text-anchor=\"middle\" x=\"679\" y=\"-119.3\" font-family=\"Times,serif\" font-size=\"14.00\" fill=\"#000000\">value = [0, 2]</text>\n<text text-anchor=\"middle\" x=\"679\" y=\"-104.3\" font-family=\"Times,serif\" font-size=\"14.00\" fill=\"#000000\">class = benign</text>\n</g>\n<!-- 12&#45;&gt;13 -->\n<g id=\"edge13\" class=\"edge\">\n<title>12&#45;&gt;13</title>\n<path fill=\"none\" stroke=\"#000000\" d=\"M691.7787,-192.9465C689.8267,-182.2621 687.6643,-170.4254 685.6818,-159.5742\"/>\n<polygon fill=\"#000000\" stroke=\"#000000\" points=\"689.0893,-158.7503 683.849,-149.5422 682.2033,-160.0084 689.0893,-158.7503\"/>\n</g>\n<!-- 14 -->\n<g id=\"node15\" class=\"node\">\n<title>14</title>\n<polygon fill=\"#e6833d\" stroke=\"#000000\" points=\"911.5,-157 746.5,-157 746.5,-89 911.5,-89 911.5,-157\"/>\n<text text-anchor=\"middle\" x=\"829\" y=\"-141.8\" font-family=\"Times,serif\" font-size=\"14.00\" fill=\"#000000\">worst concavity &lt;= 0.196</text>\n<text text-anchor=\"middle\" x=\"829\" y=\"-126.8\" font-family=\"Times,serif\" font-size=\"14.00\" fill=\"#000000\">samples = 105</text>\n<text text-anchor=\"middle\" x=\"829\" y=\"-111.8\" font-family=\"Times,serif\" font-size=\"14.00\" fill=\"#000000\">value = [103, 2]</text>\n<text text-anchor=\"middle\" x=\"829\" y=\"-96.8\" font-family=\"Times,serif\" font-size=\"14.00\" fill=\"#000000\">class = malignant</text>\n</g>\n<!-- 12&#45;&gt;14 -->\n<g id=\"edge14\" class=\"edge\">\n<title>12&#45;&gt;14</title>\n<path fill=\"none\" stroke=\"#000000\" d=\"M740.8943,-192.9465C752.7693,-183.519 765.7741,-173.1946 778.0593,-163.4415\"/>\n<polygon fill=\"#000000\" stroke=\"#000000\" points=\"780.3536,-166.089 786.0093,-157.13 776.0011,-160.6066 780.3536,-166.089\"/>\n</g>\n<!-- 15 -->\n<g id=\"node16\" class=\"node\">\n<title>15</title>\n<polygon fill=\"#ffffff\" stroke=\"#000000\" points=\"820,-53 704,-53 704,0 820,0 820,-53\"/>\n<text text-anchor=\"middle\" x=\"762\" y=\"-37.8\" font-family=\"Times,serif\" font-size=\"14.00\" fill=\"#000000\">samples = 2</text>\n<text text-anchor=\"middle\" x=\"762\" y=\"-22.8\" font-family=\"Times,serif\" font-size=\"14.00\" fill=\"#000000\">value = [1, 1]</text>\n<text text-anchor=\"middle\" x=\"762\" y=\"-7.8\" font-family=\"Times,serif\" font-size=\"14.00\" fill=\"#000000\">class = malignant</text>\n</g>\n<!-- 14&#45;&gt;15 -->\n<g id=\"edge15\" class=\"edge\">\n<title>14&#45;&gt;15</title>\n<path fill=\"none\" stroke=\"#000000\" d=\"M805.3783,-88.9777C799.2113,-80.0954 792.5539,-70.5067 786.3499,-61.5711\"/>\n<polygon fill=\"#000000\" stroke=\"#000000\" points=\"789.1497,-59.4666 780.5715,-53.2485 783.3997,-63.4589 789.1497,-59.4666\"/>\n</g>\n<!-- 16 -->\n<g id=\"node17\" class=\"node\">\n<title>16</title>\n<polygon fill=\"#e5823b\" stroke=\"#000000\" points=\"954,-53 838,-53 838,0 954,0 954,-53\"/>\n<text text-anchor=\"middle\" x=\"896\" y=\"-37.8\" font-family=\"Times,serif\" font-size=\"14.00\" fill=\"#000000\">samples = 103</text>\n<text text-anchor=\"middle\" x=\"896\" y=\"-22.8\" font-family=\"Times,serif\" font-size=\"14.00\" fill=\"#000000\">value = [102, 1]</text>\n<text text-anchor=\"middle\" x=\"896\" y=\"-7.8\" font-family=\"Times,serif\" font-size=\"14.00\" fill=\"#000000\">class = malignant</text>\n</g>\n<!-- 14&#45;&gt;16 -->\n<g id=\"edge16\" class=\"edge\">\n<title>14&#45;&gt;16</title>\n<path fill=\"none\" stroke=\"#000000\" d=\"M852.6217,-88.9777C858.7887,-80.0954 865.4461,-70.5067 871.6501,-61.5711\"/>\n<polygon fill=\"#000000\" stroke=\"#000000\" points=\"874.6003,-63.4589 877.4285,-53.2485 868.8503,-59.4666 874.6003,-63.4589\"/>\n</g>\n</g>\n</svg>\n"
          },
          "metadata": {
            "tags": []
          },
          "execution_count": 42
        }
      ]
    },
    {
      "cell_type": "code",
      "metadata": {
        "id": "xjPcjqJFcSrP"
      },
      "source": [
        ""
      ],
      "execution_count": 42,
      "outputs": []
    }
  ]
}