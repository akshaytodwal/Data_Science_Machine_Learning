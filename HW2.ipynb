{
 "cells": [
  {
   "cell_type": "markdown",
   "metadata": {},
   "source": [
    "\n",
    "INFO6105 Instructor: Dr. Handan Liu\n",
    "\n",
    "Homework 2\n",
    "\n",
    "Grading: total 100 points.\n"
   ]
  },
  {
   "cell_type": "raw",
   "metadata": {},
   "source": []
  },
  {
   "cell_type": "markdown",
   "metadata": {},
   "source": [
    "\n",
    "\n",
    "Part 1: Pandas -- 8 questions, total 44 points. \n",
    "\n"
   ]
  },
  {
   "cell_type": "raw",
   "metadata": {},
   "source": [
    "1. [3 points] Given data = [1,2,3,4,5,6,7,8,9,5,3]\n",
    "   (1) create a Pandas Series (1pts), and \n",
    "   (2) calculate the mean of the Series (0.5pts) and print the outputs to 4 decimal places in floating point format (0.5pts)\n",
    "   (3) calcaulate the standard deviation of the Series (0.5pts) and print the outputs to 4 decimal places in floating point format (0.5pts)."
   ]
  },
  {
   "cell_type": "raw",
   "metadata": {},
   "source": [
    "2. [2 points] NumPy array: d1 = [10, 20, 30, 40, 50];  dictionary: d2 = {'a': 100, 'b': 200, 'c':300, 'd':400, 'e':800}    \n",
    "Convert the NumPy array and the dictionary to Pandas Series, respectively."
   ]
  },
  {
   "cell_type": "raw",
   "metadata": {},
   "source": [
    "3: [4 points] Construct a DataFrame as the sameple data here and output (2pts). Use \"iloc\" to convert the first column of a DataFrame as a Series (2pts). \n",
    "Sample data:\n",
    "    col1  col2  col3\n",
    "0     1     4     7\n",
    "1     2     5     5\n",
    "2     3     6     8\n",
    "3     4     9    12\n",
    "4     7     5     1\n",
    "5    11     0    11"
   ]
  },
  {
   "cell_type": "raw",
   "metadata": {},
   "source": [
    "4. Create a DataFram with multiple indice, the result should be the following: here, \"random\" means any integer random number for books. [7 point]\n",
    "\n",
    "                       Bob     Tom\n",
    " 1st          2nd                    \n",
    "fiction       one     random  random\n",
    "              two     random  random\n",
    "non-fiction   one     random  random\n",
    "              two     random  random\n",
    "sci-fi        one     random  random\n",
    "              two     random  random\n",
    "chapter       one     random  random\n",
    "              two     random  random"
   ]
  },
  {
   "cell_type": "raw",
   "metadata": {},
   "source": []
  },
  {
   "cell_type": "raw",
   "metadata": {},
   "source": [
    "5. Write a Pandas program to replace all the NaN values with Zero's in a column of a dataframe. [5 points]. \n",
    "Sample data is a dataset for an exam:\n",
    "  attempts name qualify score\n",
    "0 1 Anastasia yes 12.5\n",
    "1 3 Dima no 9.0\n",
    "2 2 Katherine yes 16.5\n",
    "3 3 James no N/A\n",
    "4 2 Emily no 9.0\n",
    "5 3 Michael yes 20.0\n",
    "6 1 Matthew yes 14.5\n",
    "7 1 Laura no N/A\n",
    "8 2 Kevin no 8.0\n",
    "9 1 Jonas yes 19.0\n",
    "1) Construct a DataFrame and the column in the order as name, score, attempts, qualify; [3pts]\n",
    "2) New DataFrame replacing all missing data with 0 and print. [2pts]"
   ]
  },
  {
   "cell_type": "raw",
   "metadata": {},
   "source": []
  },
  {
   "cell_type": "raw",
   "metadata": {},
   "source": [
    "6. Add some data ['500', 'php'] to an existing Series. [3 points]\n",
    "Given Data Series:\n",
    "0       100\n",
    "1       200\n",
    "2    python\n",
    "3    300.12\n",
    "4       400"
   ]
  },
  {
   "cell_type": "raw",
   "metadata": {},
   "source": [
    "7. [10 points]: Given data:\n",
    "    col1  col2  col3\n",
    "0     1     4     7\n",
    "1     2     5     5\n",
    "2     3     6     8\n",
    "3     4     9    12\n",
    "4     7     5     1\n",
    "5    11     0    11   \n",
    "(1) Construct a DataFrame from the given data (and print)   [3pts]\n",
    "(2) Print the number of columns of the DataFrame            [1pt]\n",
    "(3) Select all columns, except one given column 'col3'      [2pts]\n",
    "(4) Remove first 3 rows of the DataFrame    [2pts]\n",
    "(5) Remove last 3 rows of the DataFrame     [2pts]  \n",
    "Tips: use indexers loc and/or iloc to finish."
   ]
  },
  {
   "cell_type": "raw",
   "metadata": {},
   "source": [
    "8. [10 points]: \n",
    "(1) read data from HW2_movies.csv file to Pandas\n",
    "(2) get the information of the DataFrame (movies.csv file) including data types and memory usage.\n",
    "(3) count the number of rows and columns of the DataFrame \n",
    "(4) get the details of fifth movie of the DataFrame.\n",
    "(5) display the movies (title, runtime)longer than 30 minutes and shorter than 360 minutes."
   ]
  },
  {
   "cell_type": "raw",
   "metadata": {},
   "source": []
  },
  {
   "cell_type": "markdown",
   "metadata": {},
   "source": [
    "\n",
    "\n",
    "Part 2: Matplotlib -- 5 questions, total 39 points. \n",
    "\n"
   ]
  },
  {
   "cell_type": "raw",
   "metadata": {},
   "source": [
    "1. [6 points]: plot several lines with different format styles in one command using arrays.\n",
    "Sampled time at 200ms intervals: t = np.arange(0., 5., 0.2)\n",
    "Using green dashes, blue squares and red triangles to plot: t, t**2, t**3."
   ]
  },
  {
   "cell_type": "raw",
   "metadata": {},
   "source": [
    "2. [11 points]: plot line1 and line2 with different styles\n",
    "# line 1 points\n",
    "x1 = [10,20,30]\n",
    "y1 = [20,40,10]\n",
    "# line 2 points\n",
    "x2 = [10,20,30]\n",
    "y2 = [40,10,30]\n",
    "Set the x and y axes labels as 'x' and 'y';    [2pts]\n",
    "Plot lines and/or markers to the Axes: blue,red; dotted, dashed;   [4pts, each 1pt]\n",
    "Plot the width of line1 as 3 and line2 as 5;   [2pts, each 1pt]\n",
    "Set a title: \"Plot with two or more lines with different styles\";  [1pt]\n",
    "show a legend on the plot as 'line1-dotted', 'line2-dashed'.       [2pt, each 1pt]"
   ]
  },
  {
   "cell_type": "raw",
   "metadata": {},
   "source": [
    "3. [4 points]: draw a scatter plot with empty circles taking a 50-point random distribution in X and Y; set X and Y as x- and y- axes lables; any color for face and edge, and plotted against each other."
   ]
  },
  {
   "cell_type": "raw",
   "metadata": {},
   "source": [
    "4. [6 points]:  create bar plot from a DataFrame. The result should be the following figure.\n",
    "Sample DataFrame:\n",
    "  a b c d e \n",
    "2 4,8,5,7,6\n",
    "4 2,3,4,2,6\n",
    "6 4,7,4,7,8\n",
    "8 2,6,4,8,6\n",
    "10 2,4,3,3,2"
   ]
  },
  {
   "cell_type": "raw",
   "metadata": {},
   "source": []
  },
  {
   "cell_type": "raw",
   "metadata": {},
   "source": [
    "5. [12 points]:\n",
    "The following dataset for average monthly precipitation. You will create and customize a plot. \n",
    "Month    Precipitation (inches)\n",
    "Jan      0.70\n",
    "Feb      0.75\n",
    "Mar      1.85\n",
    "Apr      2.93\n",
    "May      3.05\n",
    "June     2.02\n",
    "July     1.93\n",
    "Aug      1.62\n",
    "Sept     1.84\n",
    "Oct      1.31\n",
    "Nov      1.39\n",
    "Dec      0.84"
   ]
  },
  {
   "cell_type": "raw",
   "metadata": {},
   "source": [
    "5.1 [6 points]: Begin by creating a plot using the default styles provided by matplotlib.pyplot. \n",
    "You will use months along the x-axis and precip along the y-axis.\n",
    "Set plot title as \"Average Monthly Precipitation\";\n",
    "Add labels to the axes: x label as \"Month\", y label as \"Precipitation (inches)\""
   ]
  },
  {
   "cell_type": "raw",
   "metadata": {},
   "source": [
    "5.2 [6 points]: Change Plot Type\n",
    "You can turn your plot into a bar plot; \n",
    "also assign a fill color using \"green\"."
   ]
  },
  {
   "cell_type": "raw",
   "metadata": {},
   "source": []
  },
  {
   "cell_type": "markdown",
   "metadata": {},
   "source": [
    "\n",
    "\n",
    "Part 3: Titanic Case Analyzing with Pandas and Visulizing with Matplotlib\n",
    "Total: 17 points\n"
   ]
  },
  {
   "cell_type": "raw",
   "metadata": {},
   "source": [
    "1. Data Overview: 6pts\n",
    "(1) From HW2_titanic.csv, read into the data in Pandas: 2pts\n",
    "(2) Understand the meaning of each variable: 2pts\n",
    "(3) View all numeric class variables and their associated statistics: 2pts"
   ]
  },
  {
   "cell_type": "raw",
   "metadata": {},
   "source": [
    "2.Simple analysis of data relationships: 6pts\n",
    "(1) Number of survivors and deaths: 2pts\n",
    "(2) Distribution of survivors and deaths at each level by a DataFrame: 4pts"
   ]
  },
  {
   "cell_type": "raw",
   "metadata": {},
   "source": [
    "3. Visulization: 5pts\n",
    "(1) Use a bar plot to show the distribution of survivors and deaths at each level: each level (Pclass) as x-axis, number of people as y-axis. In each same bar, \"Survived\" is on the top, and \"Died\" is on the bottom. 4pts\n",
    "(2) Show the legend as \"Died\" and \"Survived\". 1pt"
   ]
  },
  {
   "cell_type": "code",
   "execution_count": null,
   "metadata": {},
   "outputs": [],
   "source": []
  }
 ],
 "metadata": {
  "kernelspec": {
   "display_name": "Python 3",
   "language": "python",
   "name": "python3"
  },
  "language_info": {
   "codemirror_mode": {
    "name": "ipython",
    "version": 3
   },
   "file_extension": ".py",
   "mimetype": "text/x-python",
   "name": "python",
   "nbconvert_exporter": "python",
   "pygments_lexer": "ipython3",
   "version": "3.7.6"
  }
 },
 "nbformat": 4,
 "nbformat_minor": 4
}
